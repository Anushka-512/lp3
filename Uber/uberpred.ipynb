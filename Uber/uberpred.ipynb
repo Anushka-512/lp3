{
 "cells": [
  {
   "cell_type": "code",
   "execution_count": null,
   "id": "71261470-8c02-447b-a5ba-1fb1c953e1ce",
   "metadata": {},
   "outputs": [],
   "source": [
    "import numpy as np\n",
    "import pandas as pd\n",
    "import seaborn as sns"
   ]
  },
  {
   "cell_type": "code",
   "execution_count": null,
   "id": "6ee08601-6a55-4686-a3c2-060d5735049b",
   "metadata": {},
   "outputs": [],
   "source": [
    "ds = pd.read_csv('uber.csv')\n",
    "ds"
   ]
  },
  {
   "cell_type": "code",
   "execution_count": null,
   "id": "fcbb4739-946e-42c3-be54-d50cb7eca719",
   "metadata": {},
   "outputs": [],
   "source": [
    "ds = ds.drop(['Unnamed: 0', 'pickup_datetime'], axis = 1)\n",
    "ds.dropna(inplace=True)\n",
    "ds"
   ]
  },
  {
   "cell_type": "code",
   "execution_count": null,
   "id": "f34c88c0-7c45-4713-a5e8-06c4d1baec50",
   "metadata": {},
   "outputs": [],
   "source": [
    "ds[\"key\"] = pd.to_datetime(ds[\"key\"]).dt.strftime(\"%H\").astype('float32')\n",
    "ds = ds.rename(columns={\"key\": \"time\"})\n",
    "ds\n",
    "    "
   ]
  },
  {
   "cell_type": "code",
   "execution_count": null,
   "id": "d1b21f83-7a59-49f5-afe0-0dbf0d99f4b1",
   "metadata": {},
   "outputs": [],
   "source": [
    "import math\n",
    "\n",
    "def euclidean_distance(lat1, lon1, lat2, lon2):\n",
    "    dlat = lat2 - lat1\n",
    "    dlon = lon2 - lon1\n",
    "    distance = math.sqrt(dlat**2 + dlon**2)\n",
    "    return distance\n",
    "\n",
    "ds['distance'] = ds.apply(\n",
    "    lambda row: euclidean_distance(\n",
    "        row['pickup_latitude'],\n",
    "        row['pickup_longitude'],\n",
    "        row['dropoff_latitude'],\n",
    "        row['dropoff_longitude']\n",
    "    ), axis=1\n",
    ")\n",
    "     "
   ]
  },
  {
   "cell_type": "code",
   "execution_count": null,
   "id": "5567647d-8b4d-41aa-8e21-d44bc4da4014",
   "metadata": {},
   "outputs": [],
   "source": [
    "sns.scatterplot(ds, y=\"fare_amount\", x=\"passenger_count\")\n",
    "ds = ds[ds[\"passenger_count\"] < 100]"
   ]
  },
  {
   "cell_type": "code",
   "execution_count": null,
   "id": "84bdd086-e45d-4827-b76f-304cd182d8d8",
   "metadata": {},
   "outputs": [],
   "source": [
    "def remove_outliers(feature):\n",
    "    global ds\n",
    "    q3 , q1 = np.percentile( ds[feature] , [ 75 , 25 ] )\n",
    "    iqr = q3 - q1\n",
    "    ds = ds[ (ds[feature] >= q1 - 1.5 * iqr) & (ds[feature] <= q3 + 1.5 * iqr) ]\n",
    "\n",
    "remove_outliers(\"pickup_latitude\")\n",
    "remove_outliers(\"pickup_longitude\")\n",
    "remove_outliers(\"dropoff_latitude\")\n",
    "remove_outliers(\"dropoff_longitude\")"
   ]
  },
  {
   "cell_type": "code",
   "execution_count": null,
   "id": "bafe4074-896b-49da-8170-a0c30d726234",
   "metadata": {},
   "outputs": [],
   "source": [
    "corr = ds.corr(method=\"pearson\")\n",
    "sns.heatmap(corr, annot=True)\n",
    "     "
   ]
  },
  {
   "cell_type": "code",
   "execution_count": null,
   "id": "5258d625-29f6-4e39-a57e-7aa7ae54c692",
   "metadata": {},
   "outputs": [],
   "source": [
    "from sklearn.model_selection import train_test_split\n",
    "from sklearn.preprocessing import StandardScaler\n",
    "\n",
    "X = ds.drop(['fare_amount'], axis=1)\n",
    "y = ds['fare_amount']\n",
    "X_train, X_test, y_train, y_test = train_test_split(X, y, test_size=0.2, random_state=42)\n",
    "\n",
    "scaler = StandardScaler()\n",
    "X_train_scaled = scaler.fit_transform(X_train)\n",
    "X_test_scaled = scaler.transform(X_test)"
   ]
  },
  {
   "cell_type": "code",
   "execution_count": null,
   "id": "dea9a2d3-2eb8-4303-874d-5bc926f1538f",
   "metadata": {},
   "outputs": [],
   "source": [
    "from sklearn.linear_model import LinearRegression\n",
    "\n",
    "model = LinearRegression()\n",
    "model.fit(X_train_scaled, y_train)\n",
    "y_pred = model.predict(X_test_scaled)\n",
    "y_pred"
   ]
  },
  {
   "cell_type": "code",
   "execution_count": null,
   "id": "4e355213-50fc-490b-81a7-f88a4622a8a0",
   "metadata": {},
   "outputs": [],
   "source": [
    "from sklearn.metrics import mean_squared_error, r2_score, mean_absolute_error\n",
    "\n",
    "lr_RMSE = np.sqrt(mean_squared_error(y_test, y_pred))\n",
    "print(\"RMSE -> \", lr_RMSE)\n",
    "lr_R2 = r2_score(y_test, y_pred)\n",
    "print(\"R2 -> \", lr_R2)\n",
    "lr_mae = mean_absolute_error(y_test, y_pred)\n",
    "print(\"MAE -> \", lr_mae)"
   ]
  },
  {
   "cell_type": "code",
   "execution_count": null,
   "id": "9d9516a4-ff45-4229-aa36-ad00aab52afe",
   "metadata": {},
   "outputs": [],
   "source": [
    "from sklearn.ensemble import RandomForestRegressor\n",
    "\n",
    "model = RandomForestRegressor()\n",
    "model.fit(X_train_scaled, y_train)\n",
    "y_pred = model.predict(X_test_scaled)\n",
    "y_pred\n",
    "     "
   ]
  },
  {
   "cell_type": "code",
   "execution_count": null,
   "id": "ce2ebe45-a030-425a-830f-ed32842ee1eb",
   "metadata": {},
   "outputs": [],
   "source": [
    "rf_RMSE = np.sqrt(mean_squared_error(y_test, y_pred))\n",
    "print(\"RMSE -> \", rf_RMSE)\n",
    "rf_R2 = r2_score(y_test, y_pred)\n",
    "print(\"R2 -> \", rf_R2)\n",
    "rf_mae = mean_absolute_error(y_test, y_pred)\n",
    "print(\"MAE -> \", rf_mae)"
   ]
  },
  {
   "cell_type": "code",
   "execution_count": null,
   "id": "38af8160-925a-4800-8b9f-55d7fa8d0413",
   "metadata": {},
   "outputs": [],
   "source": []
  },
  {
   "cell_type": "code",
   "execution_count": null,
   "id": "7377c305-729d-469e-bfb1-e6cda2a54d0b",
   "metadata": {},
   "outputs": [],
   "source": []
  }
 ],
 "metadata": {
  "kernelspec": {
   "display_name": "Python 3 (ipykernel)",
   "language": "python",
   "name": "python3"
  },
  "language_info": {
   "codemirror_mode": {
    "name": "ipython",
    "version": 3
   },
   "file_extension": ".py",
   "mimetype": "text/x-python",
   "name": "python",
   "nbconvert_exporter": "python",
   "pygments_lexer": "ipython3",
   "version": "3.10.11"
  }
 },
 "nbformat": 4,
 "nbformat_minor": 5
}
